{
  "nbformat": 4,
  "nbformat_minor": 0,
  "metadata": {
    "colab": {
      "name": "training.ipynb",
      "provenance": [],
      "authorship_tag": "ABX9TyM8dUhkJNmFdCpcf32AYNHw",
      "include_colab_link": true
    },
    "kernelspec": {
      "name": "python3",
      "display_name": "Python 3"
    }
  },
  "cells": [
    {
      "cell_type": "markdown",
      "metadata": {
        "id": "view-in-github",
        "colab_type": "text"
      },
      "source": [
        "<a href=\"https://colab.research.google.com/github/divi15/Face-Mask-Detection/blob/main/training.ipynb\" target=\"_parent\"><img src=\"https://colab.research.google.com/assets/colab-badge.svg\" alt=\"Open In Colab\"/></a>"
      ]
    },
    {
      "cell_type": "code",
      "metadata": {
        "id": "zeNiqbmMWj0H"
      },
      "source": [
        "from keras.optimizers import RMSprop\r\n",
        "from keras.preprocessing.image import ImageDataGenerator\r\n",
        "import cv2\r\n",
        "from keras.models import Sequential\r\n",
        "from keras.layers import Conv2D, Input, ZeroPadding2D, BatchNormalization, Activation, MaxPooling2D, Flatten, Dense,Dropout\r\n",
        "from keras.models import Model, load_model\r\n",
        "from keras.callbacks import TensorBoard, ModelCheckpoint\r\n",
        "from sklearn.model_selection import train_test_split\r\n",
        "from sklearn.metrics import f1_score\r\n",
        "from sklearn.utils import shuffle\r\n",
        "import imutils\r\n",
        "import numpy as np"
      ],
      "execution_count": 1,
      "outputs": []
    },
    {
      "cell_type": "code",
      "metadata": {
        "id": "DrSbFaPkXHt3"
      },
      "source": [
        ""
      ],
      "execution_count": null,
      "outputs": []
    },
    {
      "cell_type": "code",
      "metadata": {
        "colab": {
          "base_uri": "https://localhost:8080/"
        },
        "id": "oFIwFVKaCtnK",
        "outputId": "3ada01bb-9ae1-4ae6-bc98-1349c93697c8"
      },
      "source": [
        "from google.colab import drive\r\n",
        "\r\n",
        "drive.mount('/content/drive') "
      ],
      "execution_count": 2,
      "outputs": [
        {
          "output_type": "stream",
          "text": [
            "Mounted at /content/drive\n"
          ],
          "name": "stdout"
        }
      ]
    },
    {
      "cell_type": "code",
      "metadata": {
        "id": "gGrVsrLZXRYc"
      },
      "source": [
        "model = Sequential([\r\n",
        "    Conv2D(100, (3,3), activation='relu', input_shape=(150, 150, 3)),\r\n",
        "    MaxPooling2D(2,2),\r\n",
        "    \r\n",
        "    Conv2D(100, (3,3), activation='relu'),\r\n",
        "    MaxPooling2D(2,2),\r\n",
        "    \r\n",
        "    Flatten(),\r\n",
        "    Dropout(0.5),\r\n",
        "    Dense(50, activation='relu'),\r\n",
        "    Dense(2, activation='softmax')\r\n",
        "])\r\n",
        "model.compile(optimizer='adam', loss='binary_crossentropy', metrics=['acc'])"
      ],
      "execution_count": 3,
      "outputs": []
    },
    {
      "cell_type": "code",
      "metadata": {
        "colab": {
          "base_uri": "https://localhost:8080/"
        },
        "id": "7BxOk-yAXbep",
        "outputId": "99d20e12-9739-48e3-aea6-1947a844b4cb"
      },
      "source": [
        "TRAINING_DIR = '/content/drive/My Drive/train'\r\n",
        "train_datagen = ImageDataGenerator(rescale=1.0/255,\r\n",
        "                                   rotation_range=40,\r\n",
        "                                   width_shift_range=0.2,\r\n",
        "                                   height_shift_range=0.2,\r\n",
        "                                   shear_range=0.2,\r\n",
        "                                   zoom_range=0.2,\r\n",
        "                                   horizontal_flip=True,\r\n",
        "                                   fill_mode='nearest')\r\n",
        "\r\n",
        "train_generator = train_datagen.flow_from_directory(TRAINING_DIR, \r\n",
        "                                                    batch_size=10, \r\n",
        "                                                    target_size=(150, 150))\r\n",
        "VALIDATION_DIR = '/content/drive/My Drive/test'\r\n",
        "validation_datagen = ImageDataGenerator(rescale=1.0/255)\r\n",
        "\r\n",
        "validation_generator = validation_datagen.flow_from_directory(VALIDATION_DIR, \r\n",
        "                                                         batch_size=10, \r\n",
        "                                                         target_size=(150, 150))"
      ],
      "execution_count": 4,
      "outputs": [
        {
          "output_type": "stream",
          "text": [
            "Found 1315 images belonging to 2 classes.\n",
            "Found 194 images belonging to 2 classes.\n"
          ],
          "name": "stdout"
        }
      ]
    },
    {
      "cell_type": "code",
      "metadata": {
        "id": "0lwcJrVPX3BK"
      },
      "source": [
        "checkpoint = ModelCheckpoint('model2-{epoch:03d}.model',monitor='val_loss',verbose=0,save_best_only=True,mode='auto')"
      ],
      "execution_count": 5,
      "outputs": []
    },
    {
      "cell_type": "code",
      "metadata": {
        "colab": {
          "base_uri": "https://localhost:8080/"
        },
        "id": "ezz-lhk4YBRt",
        "outputId": "b13b8aac-bac8-42da-b06e-13646399df11"
      },
      "source": [
        "history = model.fit_generator(train_generator,\r\n",
        "                              epochs=10,\r\n",
        "                              validation_data=validation_generator,\r\n",
        "                              callbacks=[checkpoint])"
      ],
      "execution_count": 6,
      "outputs": [
        {
          "output_type": "stream",
          "text": [
            "/usr/local/lib/python3.6/dist-packages/tensorflow/python/keras/engine/training.py:1844: UserWarning: `Model.fit_generator` is deprecated and will be removed in a future version. Please use `Model.fit`, which supports generators.\n",
            "  warnings.warn('`Model.fit_generator` is deprecated and '\n"
          ],
          "name": "stderr"
        },
        {
          "output_type": "stream",
          "text": [
            "Epoch 1/10\n",
            "132/132 [==============================] - 243s 2s/step - loss: 0.6395 - acc: 0.6898 - val_loss: 0.1689 - val_acc: 0.9536\n",
            "INFO:tensorflow:Assets written to: model2-001.model/assets\n",
            "Epoch 2/10\n",
            "132/132 [==============================] - 145s 1s/step - loss: 0.2951 - acc: 0.8896 - val_loss: 0.1404 - val_acc: 0.9536\n",
            "INFO:tensorflow:Assets written to: model2-002.model/assets\n",
            "Epoch 3/10\n",
            "132/132 [==============================] - 145s 1s/step - loss: 0.2608 - acc: 0.9003 - val_loss: 0.1060 - val_acc: 0.9639\n",
            "INFO:tensorflow:Assets written to: model2-003.model/assets\n",
            "Epoch 4/10\n",
            "132/132 [==============================] - 146s 1s/step - loss: 0.2245 - acc: 0.9151 - val_loss: 0.0929 - val_acc: 0.9691\n",
            "INFO:tensorflow:Assets written to: model2-004.model/assets\n",
            "Epoch 5/10\n",
            "132/132 [==============================] - 145s 1s/step - loss: 0.2449 - acc: 0.9111 - val_loss: 0.1315 - val_acc: 0.9227\n",
            "Epoch 6/10\n",
            "132/132 [==============================] - 145s 1s/step - loss: 0.2252 - acc: 0.9221 - val_loss: 0.0766 - val_acc: 0.9845\n",
            "INFO:tensorflow:Assets written to: model2-006.model/assets\n",
            "Epoch 7/10\n",
            "132/132 [==============================] - 144s 1s/step - loss: 0.2148 - acc: 0.9220 - val_loss: 0.1614 - val_acc: 0.9227\n",
            "Epoch 8/10\n",
            "132/132 [==============================] - 145s 1s/step - loss: 0.2493 - acc: 0.9144 - val_loss: 0.0602 - val_acc: 0.9794\n",
            "INFO:tensorflow:Assets written to: model2-008.model/assets\n",
            "Epoch 9/10\n",
            "132/132 [==============================] - 146s 1s/step - loss: 0.1882 - acc: 0.9330 - val_loss: 0.0429 - val_acc: 0.9845\n",
            "INFO:tensorflow:Assets written to: model2-009.model/assets\n",
            "Epoch 10/10\n",
            "132/132 [==============================] - 145s 1s/step - loss: 0.2135 - acc: 0.9169 - val_loss: 0.0313 - val_acc: 1.0000\n",
            "INFO:tensorflow:Assets written to: model2-010.model/assets\n"
          ],
          "name": "stdout"
        }
      ]
    }
  ]
}